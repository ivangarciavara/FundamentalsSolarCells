{
 "cells": [
  {
   "cell_type": "markdown",
   "id": "9e3d0571",
   "metadata": {},
   "source": [
    "***Fundamentals of Solar Cells ***\n",
    "\n",
    "**Laboratory Session 04**\n",
    "\n",
    "***Extraction of solar cell parameters***\n",
    "\n"
   ]
  },
  {
   "cell_type": "markdown",
   "id": "c3b3d6b6",
   "metadata": {},
   "source": [
    "_This notebook contains the code necessary to extract the parameters of the solar cell that define an I-V curve using the 5-point method_ <br>\n",
    "The algorithm is from: \n",
    "* Cotfas, D.T., Cotfas, P.A., Kaplanis, S., 2013. Methods to determine the dc parameters of solar cells: A critical review. Renew. Sustain. Energy Rev. 28, 588–596. https://doi.org/10.1016/j.rser.2013.08.017"
   ]
  },
  {
   "cell_type": "markdown",
   "id": "7e72fb5e",
   "metadata": {},
   "source": [
    "First:\n",
    "· we import the Python modules used <br>\n",
    "· define the Boltzman constant <br>\n",
    "· define the temperature <br>"
   ]
  },
  {
   "cell_type": "code",
   "execution_count": 222,
   "id": "0e83057f",
   "metadata": {},
   "outputs": [],
   "source": [
    "import math\n",
    "import numpy as np\n",
    "import matplotlib.pyplot as plt\n",
    "\n",
    "kB = 8.617333e-5\n",
    "temperature = 25"
   ]
  },
  {
   "cell_type": "markdown",
   "id": "d8686289",
   "metadata": {},
   "source": [
    "Function to generate I-V curves using as input the parameters of the one-diode model"
   ]
  },
  {
   "cell_type": "code",
   "execution_count": 223,
   "id": "44002fdf",
   "metadata": {},
   "outputs": [],
   "source": [
    "def model_IV(IL, I0, n, Rs, Rp, temperature, Inoise, data_size):\n",
    "    # Thermal voltage\n",
    "    kBT = kB*(temperature + 273.15)\n",
    "    \n",
    "    #I-V curve stored in a 2-column array: first column for voltages, second column for currents\n",
    "    IVcurve = np.zeros((data_size,2))\n",
    "    \n",
    "    # First we calculate the I-V curve voltage range: from -0.1 V to Voc + 0.01 V\n",
    "    # We want to have the I-V curve crossing the current and voltage axis to see the Isc and Voc\n",
    "    \n",
    "    # To calculate the voltage range, we calculate first the Voc without Rs/Rp.\n",
    "    Voc0 = n*kBT*math.log(IL/I0)\n",
    "    \n",
    "    #Create the voltage list\n",
    "    #Voltage range used: -0.1 to Voc+0.01\n",
    "    #A \"Rs*IL\" term is added to compensate for the voltage drop in the Rs\n",
    "    IVcurve[:,0]= np.linspace(-0.1+Rs*IL, Voc0+0.01, data_size)\n",
    "    \n",
    "    #I-V curve without Rs effect\n",
    "    IVcurve[:,1] = IL - I0*(np.exp(IVcurve[:,0]/(n*kBT))-1) - IVcurve[:,0]/Rp\n",
    "    \n",
    "    #Shift voltages to include Rs effect\n",
    "    IVcurve[:,0] = IVcurve[:,0] - Rs*IVcurve[:,1]\n",
    "    \n",
    "    # Add noise to the current.\n",
    "    # The noise component follows a normal distribution with std dev of I*Inoise\n",
    "    IVnoise = np.random.default_rng().normal(0, np.absolute(IVcurve[:,1])*Inoise)\n",
    "    IVcurve[:,1]+=IVnoise\n",
    "    \n",
    "    #saveName = \"modelled_cell_IV.txt\"\n",
    "    #saveHeader = \"IL=\" +str(IL) + \"\\nI0=\"+str(I0) + \"\\nn=\"+str(n) + \"\\nRs=\" + str(Rs)+ \"\\nRp=\"+ str(Rp) + \"\\n\"\n",
    "    #np.savetxt(saveName, IVcurve, delimiter= \" \", fmt=\"%.3f %.5e\", header = saveHeader)\n",
    "    \n",
    "    \n",
    "    return IVcurve"
   ]
  },
  {
   "cell_type": "markdown",
   "id": "d44a37d8",
   "metadata": {},
   "source": [
    "Function to extract the I-V curve parameters. \n"
   ]
  },
  {
   "cell_type": "code",
   "execution_count": 224,
   "id": "ff265feb",
   "metadata": {},
   "outputs": [],
   "source": [
    "def get_IV_params(rawIV, temperature, nPntsSlopeIsc, nPntsSlopeVoc):\n",
    "    # Thermal voltage\n",
    "    kBT = 8.617333e-5*(temperature + 273.15)\n",
    "    \n",
    "    ## 1) Condition the I-V curve to be in 1st quadrant and \n",
    "    ##    with increasing values of voltage\n",
    "    # Move I-V curve to first quadrant if it is not there yet\n",
    "    # Sort data and move to first quadrant\n",
    "    IV_1stq = rawIV.copy()\n",
    "    Isc = get_Isc(IV_1stq)\n",
    "    if Isc<0:\n",
    "        Isc*=-1\n",
    "        IV_1stq[:,1]*=-1\n",
    "    \n",
    "    Voc = get_Voc(IV_1stq)\n",
    "    if Voc<0:\n",
    "        Voc*=-1\n",
    "        IV_1stq[:,0]*=-1    \n",
    "\n",
    "    # Sort I-V curve data to have increasing values of voltage\n",
    "    IV_1stq=IV_1stq[IV_1stq[:,0].argsort()]     \n",
    "    ##\n",
    "    \n",
    "    ## 2) Algorithm for the 5-point method\n",
    "    ##\n",
    "    \n",
    "    # Calculate Rp as the inverse of the slope at V=0\n",
    "    # First define the V range used to calculate the slope\n",
    "    slopeIsc, slopeFitIsc = getSlope_atIsc(IV_1stq, nPntsSlopeIsc)\n",
    "    Rp = -1/slopeIsc\n",
    "   \n",
    "    # Flat but noisy I-V around V=0 can result in Rp<0\n",
    "    # In this case, assume that Rp is very high\n",
    "    #if Rp<0:\n",
    "    #    Rp=1e4\n",
    "\n",
    "    # Calculate the maximum power and V, I at maximum power point\n",
    "    Pm, Vm, Im = get_Pmax(rawIV)\n",
    "    \n",
    "    # Calculate the slope at Voc as intermediate parameter\n",
    "    slopeVoc, slopeFitVoc = getSlope_atVoc(IV_1stq, nPntsSlopeVoc)\n",
    "    \n",
    "    # Intermediate calculations for the 5-point algorithm\n",
    "    Rs0 = -1/slopeVoc\n",
    "    \n",
    "    A = Vm + Rs0*Im-Voc\n",
    "    B = math.log(Isc-Vm/Rp-Im)-math.log(Isc-Voc/Rp)\n",
    "    C = Im/(Isc-Voc/Rp)\n",
    "    n = A/(kBT*(B+C))    \n",
    "    \n",
    "    I0 = (Isc-Voc/Rp)*math.exp(-Voc/(n*kBT))\n",
    "    \n",
    "    #n=1.2\n",
    "    #I0=1e-12\n",
    "   \n",
    "    Rs = Rs0 -n*(kBT/I0)*math.exp(-Voc/(n*kBT))\n",
    "   \n",
    "\n",
    "    return Isc, I0, n, Rs, Rp, slopeFitIsc, slopeFitVoc "
   ]
  },
  {
   "cell_type": "markdown",
   "id": "19ae0c48",
   "metadata": {},
   "source": [
    "And ancillary functions to serve \"get_IV_params\""
   ]
  },
  {
   "cell_type": "code",
   "execution_count": 225,
   "id": "cd9c5fe6",
   "metadata": {},
   "outputs": [],
   "source": [
    "# Load I-V file\n",
    "def load_IV(IVpath):\n",
    "    \n",
    "    rawIV = np.loadtxt(IVpath, skiprows=7)\n",
    "    \n",
    "    return rawIV\n",
    "\n"
   ]
  },
  {
   "cell_type": "code",
   "execution_count": 234,
   "id": "4c0a15e0",
   "metadata": {},
   "outputs": [],
   "source": [
    "# Obtains Isc by linear interpolation around V=0\n",
    "def get_Isc(IVdata):\n",
    "    \"\"\"Returns the Isc of the input raw I-V curve\"\"\"\n",
    "\n",
    "   # Sort data\n",
    "    IV_sorted = IVdata.copy()\n",
    "    IV_sorted=IVdata[IVdata[:,0].argsort()]   # Sort by voltages\n",
    "    \n",
    "    Isc = np.interp(0,IV_sorted[:,0],IV_sorted[:,1])\n",
    "    \n",
    "    return Isc\n",
    "\n",
    "# Obtains Voc by linear interpolation around I=0\n",
    "def get_Voc(IVdata):\n",
    "    \"\"\"Returns the Voc of the input raw I-V curve\"\"\"\n",
    "\n",
    "   # Sort data\n",
    "    IV_sorted = IVdata.copy()\n",
    "    IV_sorted=IVdata[IVdata[:,1].argsort()]   # Sort by currents\n",
    "    \n",
    "    Voc = np.interp(0, IV_sorted[:,1],IV_sorted[:,0])\n",
    "    \n",
    "    return Voc\n",
    "\n",
    "# Obtains the Pmax, and also the Vm and Im\n",
    "def get_Pmax(IVdata):\n",
    "  \n",
    "   # Sort data and move to 1st quadrant\n",
    "    IV_sorted = IVdata.copy()\n",
    " \n",
    "    Isc = get_Isc(IV_sorted)\n",
    "    if Isc<0:\n",
    "        Isc*=-1\n",
    "        IV_sorted[:,1]*=-1\n",
    "    \n",
    "    Voc = get_Voc(IV_sorted)\n",
    "    if Voc<0:\n",
    "        Voc*=-1\n",
    "        IV_sorted[:,0]*=-1       \n",
    " \n",
    "    IV_sorted=IV_sorted[IV_sorted[:,0].argsort()]   \n",
    "   \n",
    " \n",
    "    PV = IV_sorted.copy()\n",
    "    PV[:,1] = IV_sorted[:,0]*IV_sorted[:,1]\n",
    "    \n",
    "    Pm = np.amax(PV[:,1])\n",
    "    maxPosition = np.argmax(PV[:,1])\n",
    "    Vm = PV[maxPosition,0]\n",
    "    Im = IV_sorted[maxPosition,1]\n",
    "\n",
    "    return Pm, Vm, Im\n",
    "\n",
    "# Determines the slope of the I-V curve around Voc\n",
    "# I-V curve is assumed to be in 1st quadrant\n",
    "def getSlope_atVoc(data, nPnts):\n",
    "   \n",
    "    indexLow = 0\n",
    "    indexHigh = 0\n",
    " \n",
    "    rI = np.where(data[:,1] <= 0)\n",
    "    rangeI = np.asarray(rI)  \n",
    "    rangeI = rangeI.flatten()   \n",
    "    \n",
    "    indexHigh = rangeI[0] + nPnts\n",
    "    if indexHigh > len(data[:,0])-1:\n",
    "        indexHigh = len(data[:,0])-1\n",
    "    indexLow = rangeI[0] - nPnts-1\n",
    "    if indexLow < 0:\n",
    "        indexLow=0\n",
    "    \n",
    "    polyCoeffs = np.polyfit(data[indexLow:indexHigh,0],data[indexLow:indexHigh,1],1)\n",
    "    \n",
    "    slope = polyCoeffs[0]\n",
    "   \n",
    "    slopeFitVoc = np.zeros((50,2))\n",
    "    slopeFitVoc[:,0]=np.linspace(data[indexLow,0],data[indexHigh,0],50)\n",
    "    slopeFitVoc[:,1] = np.polyval(polyCoeffs, slopeFitVoc[:,0])\n",
    "\n",
    "    return slope, slopeFitVoc\n",
    "\n",
    "# Returns the slope of I-V curve at Isc using\n",
    "# a linear fit for a V range of +-Vrange     \n",
    "def getSlope_atIsc(data, nPnts):\n",
    "    # Get data indexes in the Vrange\n",
    "    rV = np.where(data[:,0] <= 0)\n",
    "    rangeV = np.asarray(rV)  \n",
    "    rangeV = rangeV.flatten()   \n",
    "\n",
    "    indexLow = rangeV[-1] -nPnts   \n",
    "    if indexLow < 0:\n",
    "        indexLow=0\n",
    "    indexHigh = rangeV[-1] + nPnts\n",
    "    if indexHigh > len(data[:,0])-1:\n",
    "        indexHigh = len(data[:,0])-1\n",
    " \n",
    "    #Do a linear fit to the range of data\n",
    "    polyCoeffs = np.polyfit(data[indexLow:indexHigh,0],data[indexLow:indexHigh,1],1)\n",
    "    #Take the slope from the linear fit\n",
    "    slope = polyCoeffs[0]\n",
    " \n",
    "    slopeFitIsc = np.zeros((50,2))\n",
    "    slopeFitIsc[:,0]=np.linspace(data[indexLow,0],data[indexHigh,0],50)\n",
    "    slopeFitIsc[:,1] = np.polyval(polyCoeffs, slopeFitIsc[:,0])\n",
    "\n",
    "\n",
    "    return slope, slopeFitIsc\n",
    "\n"
   ]
  },
  {
   "cell_type": "markdown",
   "id": "7c73d09b",
   "metadata": {},
   "source": [
    "Now we load an I-V curve and extract its parameters"
   ]
  },
  {
   "cell_type": "code",
   "execution_count": 227,
   "id": "9431970f",
   "metadata": {},
   "outputs": [
    {
     "name": "stdout",
     "output_type": "stream",
     "text": [
      "IL = 0.051\n",
      "Rp = 721.012\n",
      "Rs = 0.048\n",
      "I0 = 5.15e-10\n",
      "n = 1.280\n",
      "Error Isc = 0.000 %\n",
      "Error Voc = -0.032 %\n",
      "Error Pmax = -0.022 %\n",
      "Error FF = 0.011 %\n"
     ]
    },
    {
     "data": {
      "image/png": "[encoded data removed]",
      "text/plain": [
       "<Figure size 800x640 with 1 Axes>"
      ]
     },
     "metadata": {
      "needs_background": "light"
     },
     "output_type": "display_data"
    }
   ],
   "source": [
    "# Load the experimental I-V data\n",
    "IVpath = \"D:\\\\ownCloud\\\\10_DOCENCIA\\\\2022-23\\\\FCS\\\\P5_I-V_fit\\\\Datos_practica\\\\Experimental_IV.txt\"\n",
    "IV_curve = load_IV(IVpath)\n",
    "\n",
    "# Define the number of points to use to calculate the slopes of the I-V curve around Isc and Voc\n",
    "nPntsSlopeIsc = 10\n",
    "nPntsSlopeVoc = 1\n",
    "\n",
    "IL_extr, I0_extr, n_extr, Rs_extr, Rp_extr, slopeFitIsc, slopeFitVoc = get_IV_params(\n",
    "                                                        IV_curve, temperature, nPntsSlopeIsc, nPntsSlopeVoc)\n",
    "\n",
    "IV_curve_extracted = model_IV(IL_extr, I0_extr, n_extr, Rs_extr, Rp_extr, temperature, 0, 100)\n",
    "\n",
    "Voc_extr = get_Voc(IV_curve_extracted)\n",
    "Pmax_extr, Vmax_extr, Imax_extr = get_Pmax(IV_curve_extracted)\n",
    "FF_extr = Pmax_extr/(Voc_extr*IL_extr)\n",
    "\n",
    "Isc = get_Isc(IV_curve)\n",
    "Voc = get_Voc(IV_curve)\n",
    "Pmax, Vmax, Imax = get_Pmax(IV_curve)\n",
    "FF = Pmax/(Voc*Isc)\n",
    "\n",
    "# Print the results and errors\n",
    "print(\"IL = \" + f\"{IL_extr:.3f}\")\n",
    "print(\"Rp = \" + f\"{Rp_extr:.3f}\")\n",
    "print(\"Rs = \" + f\"{Rs_extr:.3f}\")\n",
    "print(\"I0 = \" + f\"{I0_extr:.3}\") \n",
    "print(\"n = \" + f\"{n_extr:.3f}\")\n",
    "\n",
    "print(\"Error Isc = \" + f\"{100*(IL_extr-Isc)/Isc:.3f}\" + \" %\")\n",
    "print(\"Error Voc = \" + f\"{100*(Voc_extr-Voc)/Voc:.3f}\" + \" %\")\n",
    "print(\"Error Pmax = \" + f\"{100*(Pmax_extr-Pmax)/Pmax:.3f}\" + \" %\")\n",
    "print(\"Error FF = \" + f\"{100*(FF_extr-FF)/FF:.3f}\" + \" %\")\n",
    "\n",
    "# Plot the I-V curves\n",
    "plt.figure(figsize=(10, 8),dpi=80)\n",
    "plt.plot(IV_curve[:,0], IV_curve[:,1], 'bo', label=\"Original I-V\")\n",
    "plt.plot(IV_curve_extracted[:,0], IV_curve_extracted[:,1], color='r', label = \"Calculated I-V\")\n",
    "plt.plot(slopeFitIsc[:,0],slopeFitIsc[:,1], '--', linewidth=4, color='y', label = \"Fit slope at Isc\")\n",
    "plt.plot(slopeFitVoc[:,0],slopeFitVoc[:,1], ':', linewidth=4, color='y', label = \"Fit slope at Voc\")\n",
    "#plt.ylim((-0.01, Isc*1.1))\n",
    "plt. axvline(x=0,linewidth=1, color='b')\n",
    "plt. axhline(y=0,linewidth=1, color='b')\n",
    "plt.xlabel('voltage (V)', size=14)\n",
    "plt.ylabel('current (I)', size=14)\n",
    "plt.xticks(fontsize=14)\n",
    "plt.yticks(fontsize=14)\n",
    "plt.legend(fontsize=14)\n",
    "plt.show()"
   ]
  },
  {
   "cell_type": "markdown",
   "id": "cbea3877",
   "metadata": {},
   "source": [
    "Work with modelled I-Vs\n",
    "The following code can be used to model I-V curves and test how the parameter extraction with the 5-point method works "
   ]
  },
  {
   "cell_type": "code",
   "execution_count": 243,
   "id": "a5273c2e",
   "metadata": {},
   "outputs": [
    {
     "name": "stdout",
     "output_type": "stream",
     "text": [
      "IL = 0.053\n",
      "Rp = -658.307\n",
      "Rs = 0.763\n",
      "I0 = 4.77e-20\n",
      "n = 0.566\n"
     ]
    },
    {
     "data": {
      "image/png": "[encoded data removed]",
      "text/plain": [
       "<Figure size 800x640 with 1 Axes>"
      ]
     },
     "metadata": {
      "needs_background": "light"
     },
     "output_type": "display_data"
    }
   ],
   "source": [
    "# Create a modelled I-V curve and store it in \"modelled_IV\" array\n",
    "modelled_IV= model_IV(0.051, 5.15e-10, 1.28, 0.048, 721, temperature, 0.05, 50)\n",
    "\n",
    "# Define the number of points to use to calculate the slopes of the I-V curve around Isc and Voc\n",
    "nPntsSlopeIsc = 5\n",
    "nPntsSlopeVoc = 1\n",
    "\n",
    "# Extract the I-V parameters\n",
    "IL_extr, I0_extr, n_extr, Rs_extr, Rp_extr, slopeFitIsc, slopeFitVoc = get_IV_params(\n",
    "                                                        modelled_IV, temperature, nPntsSlopeIsc, nPntsSlopeVoc)\n",
    "# Print the results and errors\n",
    "print(\"IL = \" + f\"{IL_extr:.3f}\")\n",
    "print(\"Rp = \" + f\"{Rp_extr:.3f}\")\n",
    "print(\"Rs = \" + f\"{Rs_extr:.3f}\")\n",
    "print(\"I0 = \" + f\"{I0_extr:.3}\") \n",
    "print(\"n = \" + f\"{n_extr:.3f}\")\n",
    "\n",
    "# Plot the I-V curves\n",
    "plt.figure(figsize=(10, 8),dpi=80)\n",
    "plt.plot(modelled_IV[:,0], modelled_IV[:,1], 'bo', label=\"Modelled I-V\")\n",
    "#plt.plot(IV_curve_extracted[:,0], IV_curve_extracted[:,1], color='r', label = \"Calculated I-V\")\n",
    "plt.plot(slopeFitIsc[:,0],slopeFitIsc[:,1], '--', linewidth=4, color='y', label = \"Fit slope at Isc\")\n",
    "plt.plot(slopeFitVoc[:,0],slopeFitVoc[:,1], ':', linewidth=4, color='y', label = \"Fit slope at Voc\")\n",
    "#plt.ylim((-0.01, Isc*1.1))\n",
    "plt. axvline(x=0,linewidth=1, color='b')\n",
    "plt. axhline(y=0,linewidth=1, color='b')\n",
    "plt.xlabel('voltage (V)', size=14)\n",
    "plt.ylabel('current (I)', size=14)\n",
    "plt.xticks(fontsize=14)\n",
    "plt.yticks(fontsize=14)\n",
    "plt.legend(fontsize=14)\n",
    "plt.show()"
   ]
  },
  {
   "cell_type": "code",
   "execution_count": null,
   "id": "bd4f6848",
   "metadata": {},
   "outputs": [],
   "source": []
  }
 ],
 "metadata": {
  "kernelspec": {
   "display_name": "Python 3 (ipykernel)",
   "language": "python",
   "name": "python3"
  },
  "language_info": {
   "codemirror_mode": {
    "name": "ipython",
    "version": 3
   },
   "file_extension": ".py",
   "mimetype": "text/x-python",
   "name": "python",
   "nbconvert_exporter": "python",
   "pygments_lexer": "ipython3",
   "version": "3.9.7"
  }
 },
 "nbformat": 4,
 "nbformat_minor": 5
}
